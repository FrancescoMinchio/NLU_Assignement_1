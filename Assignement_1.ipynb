{
  "nbformat": 4,
  "nbformat_minor": 0,
  "metadata": {
    "colab": {
      "name": "Assignement-1.ipynb",
      "provenance": [],
      "collapsed_sections": [],
      "authorship_tag": "ABX9TyMjzw068QfbGWOhJw/8hAzb",
      "include_colab_link": true
    },
    "kernelspec": {
      "name": "python3",
      "display_name": "Python 3"
    },
    "language_info": {
      "name": "python"
    }
  },
  "cells": [
    {
      "cell_type": "markdown",
      "metadata": {
        "id": "view-in-github",
        "colab_type": "text"
      },
      "source": [
        "<a href=\"https://colab.research.google.com/github/FrancescoMinchio/NLU_Assignements/blob/main/Assignement_1.ipynb\" target=\"_parent\"><img src=\"https://colab.research.google.com/assets/colab-badge.svg\" alt=\"Open In Colab\"/></a>"
      ]
    },
    {
      "cell_type": "markdown",
      "metadata": {
        "id": "2P3qjqsavYiv"
      },
      "source": [
        "## **ASSIGNEMENT_1** \n",
        "\n",
        "\n",
        "*   Student name: Francesco Minchio\n",
        "*   Student contact: francesco.minchio@studenti.unitn.it\n",
        "*   Student referal: 225269\n",
        "\n",
        "\n",
        "\n",
        "\n",
        "\n"
      ]
    },
    {
      "cell_type": "markdown",
      "metadata": {
        "id": "ESWdadmcyftT"
      },
      "source": [
        "### **PROJECT CODE**"
      ]
    },
    {
      "cell_type": "code",
      "metadata": {
        "id": "OxFJkwqkjQXs"
      },
      "source": [
        "import spacy\n",
        "spacy_nlp = spacy.load('en_core_web_sm')\n",
        "input_sentence = 'I saw the man with a telescope'\n",
        "\n",
        "\n",
        "#EX1\n",
        "def get_dependency_path(doc):\n",
        "    for token in doc:\n",
        "        list = []\n",
        "        list.append(token.dep_ + ' : ' + token.lower_)\n",
        "     \n",
        "        for tmp in token.ancestors:\n",
        "            list.append(tmp.dep_ + ' : ' + tmp.lower_)\n",
        "        list.reverse()\n",
        "        print(token.lower_ + ' : ' + str(list))\n",
        "\n",
        "\n",
        "#EX2\n",
        "\n",
        "def get_dependencies_tree(doc):\n",
        "    for token in doc:\n",
        "        print('Dependencies subtree for token \"{0}\" is:'.format(token.lower_))\n",
        "        list = []\n",
        "        for tmp in token.subtree:\n",
        "            list.append(tmp.lower_)\n",
        "        print(list)\n",
        "        try:\n",
        "            to_nltk_tree(token).pretty_print()\n",
        "        except AttributeError:\n",
        "            print(token)\n",
        "\n",
        "\n",
        "#EX3\n",
        "\n",
        "def is_subtree(input_sentence, test_snt):\n",
        "\n",
        "    #parsing\n",
        "    sent = spacy_nlp(input_sentence)\n",
        "    test = spacy_nlp(test_snt)\n",
        "\n",
        "    #funct:\n",
        "    subtree = []\n",
        "    test_txt = [token.text for token in test]\n",
        "    print(\"Testing: {}\".format(test_txt))\n",
        "    \n",
        "    #return subtree only:\n",
        "    for token1 in test:\n",
        "        for token in sent:\n",
        "            if token.text == token1.text:\n",
        "                subtree = token.subtree\n",
        "                sbt_txt = [toks.text for toks in subtree]\n",
        "                #print(sbt_txt)\n",
        "\n",
        "                if (test_txt == sbt_txt):\n",
        "                    print(\"Found subtree: {}\".format(sbt_txt))\n",
        "                    return True\n",
        "    \n",
        "    print(\"Not a subtree.\")\n",
        "    return False\n",
        "\n",
        "#EX4\n",
        "\n",
        "def headOfSpan(input_sentence):\n",
        "    doc = nlp(input_sentence)\n",
        "    span = doc[:]\n",
        "    print(\"span: \", span)\n",
        "    return span.root  \n",
        "\n",
        "#EX5\n",
        "def get_spans(input_sentence):\n",
        "    doc=spacy_nlp(input_sentence)\n",
        "    spans_dict=dict()\n",
        "    for token in doc:\n",
        "        if token.dep_=='nsubj' or token.dep_==\"dobj\" or token.dep_==\"dative\":\n",
        "            span=doc[token.left_edge.i:token.right_edge.i+1]\n",
        "            span_list=[]\n",
        "            for i in span:\n",
        "                span_list.append(i)\n",
        "            spans_dict[(token,token.dep_)]=span_list\n",
        "    return spans_dict\n",
        "\n"
      ],
      "execution_count": 46,
      "outputs": []
    },
    {
      "cell_type": "markdown",
      "metadata": {
        "id": "SDxwvRXdzd9p"
      },
      "source": [
        "### **PROJECT RESULTS**"
      ]
    },
    {
      "cell_type": "code",
      "metadata": {
        "id": "qxVlO2B-zeS5"
      },
      "source": [
        "def main():\n",
        "\n",
        "    print('Exercise sentence:')\n",
        "    print(input_sentence)\n",
        "    document = spacy_nlp(input_sentence)\n",
        "\n",
        "    print()\n",
        "\n",
        "    # EXERCISE_1\n",
        "    print('1) Printing EX1 results...')\n",
        "    print()\n",
        "    get_dependency_path(document)\n",
        "\n",
        "    print()\n",
        "\n",
        "    # EXERCISE_2\n",
        "    print('2) Printing EX2 results...')\n",
        "    print()\n",
        "    get_dependencies_tree(document)\n",
        "\n",
        "    print()\n",
        "\n",
        "    # EXERCISE_3\n",
        "    print('3) Printing EX3 results...')\n",
        "    print()\n",
        "\n",
        "    sample_1 = 'a telescope'\n",
        "    sample_2 = 'saw the'\n",
        "    sample_3 = 'the man'\n",
        "    print(is_subtree(input_sentence, sample_1)) \n",
        "    print(is_subtree(input_sentence, sample_2)) \n",
        "    print(is_subtree(input_sentence, sample_3)) \n",
        "\n",
        "    print()\n",
        "\n",
        "    # EXERCISE_4\n",
        "    print('4) Printing EX4 results...')\n",
        "    print()\n",
        "    span = \"the man with\"\n",
        "    print(\"head of span: \", headOfSpan(span))\n",
        "    print()\n",
        "\n",
        "    print()\n",
        "\n",
        "    # EXERCISE_5\n",
        "    print('5) Printing EX5 results...')\n",
        "    print()\n",
        "    print(get_spans(input_sentence))\n",
        "\n",
        "main()"
      ],
      "execution_count": null,
      "outputs": []
    }
  ]
}