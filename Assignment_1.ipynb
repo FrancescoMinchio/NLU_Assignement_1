{
  "nbformat": 4,
  "nbformat_minor": 0,
  "metadata": {
    "colab": {
      "name": "Assignment_1.ipynb",
      "provenance": [],
      "collapsed_sections": [],
      "authorship_tag": "ABX9TyM4VB9Uu2511lSgdwy/tvO1",
      "include_colab_link": true
    },
    "kernelspec": {
      "name": "python3",
      "display_name": "Python 3"
    },
    "language_info": {
      "name": "python"
    }
  },
  "cells": [
    {
      "cell_type": "markdown",
      "metadata": {
        "id": "view-in-github",
        "colab_type": "text"
      },
      "source": [
        "<a href=\"https://colab.research.google.com/github/FrancescoMinchio/NLU_Assignment_1/blob/FrancescoMinchio-patch-1/Assignment_1.ipynb\" target=\"_parent\"><img src=\"https://colab.research.google.com/assets/colab-badge.svg\" alt=\"Open In Colab\"/></a>"
      ]
    },
    {
      "cell_type": "markdown",
      "metadata": {
        "id": "H7sxfOeByPh1"
      },
      "source": [
        "#**ASSIGNMENT_1**\n",
        "\n",
        "\n",
        "- Student name: Francesco Minchio\n",
        "- Student contact: francesco.minchio@studenti.unitn.it\n",
        "- Student referal: 225269\n",
        "\n"
      ]
    },
    {
      "cell_type": "markdown",
      "metadata": {
        "id": "FjQwmAETzOaC"
      },
      "source": [
        "### *PROJECT CODE*"
      ]
    },
    {
      "cell_type": "code",
      "metadata": {
        "id": "bOGjJSlUyPtE"
      },
      "source": [
        "import spacy\n",
        "spacy_nlp = spacy.load('en_core_web_sm')\n",
        "input_sentence = 'I saw the man with a telescope'\n",
        "doc = spacy_nlp(input_sentence)\n",
        "\n",
        "\n",
        "#EX1\n",
        "def get_dependency_path(doc):\n",
        "    for token in doc:\n",
        "        list = []\n",
        "        list.append(token.dep_ + ' : ' + token.lower_)\n",
        "     \n",
        "        for tmp in token.ancestors:\n",
        "            list.append(tmp.dep_ + ' : ' + tmp.lower_)\n",
        "        list.reverse()\n",
        "        print(token.lower_ + ' : ' + str(list))\n",
        "\n",
        "\n",
        "#EX2\n",
        "\n",
        "def getDependencySubtree(input_sentence):\n",
        "    subtree = []\n",
        "    for token in doc:\n",
        "        dependents = []\n",
        "        for child in token.subtree: \n",
        "            dependents.append(child.text)\n",
        "        subtree.append(token.text + \" -> \" + str(dependents))\n",
        "    return subtree\n",
        "\n",
        "\n",
        "#EX3\n",
        "\n",
        "def is_subtree(input_sentence, test_snt):\n",
        "\n",
        "    test = spacy_nlp(test_snt)\n",
        "\n",
        "    subtree = []\n",
        "    test_txt = [token.text for token in test]\n",
        "    print(\"Testing: {}\".format(test_txt))\n",
        "    \n",
        "    for token1 in test:\n",
        "        for token in doc:\n",
        "            if token.text == token1.text:\n",
        "                subtree = token.subtree\n",
        "                sbt_txt = [toks.text for toks in subtree]\n",
        "                #print(sbt_txt)\n",
        "\n",
        "                if (test_txt == sbt_txt):\n",
        "                    print(\"Found subtree: {}\".format(sbt_txt))\n",
        "                    return True\n",
        "    \n",
        "    print(\"Not a subtree.\")\n",
        "    return False\n",
        "\n",
        "#EX4\n",
        "\n",
        "def headOfSpan(input_sentence):\n",
        "    span = doc[:]\n",
        "    print(\"span: \", span)\n",
        "    return span.root  \n",
        "\n",
        "#EX5\n",
        "def get_spans(input_sentence):\n",
        "    spans_dict=dict()\n",
        "    for token in doc:\n",
        "        if token.dep_=='nsubj' or token.dep_==\"dobj\" or token.dep_==\"dative\":\n",
        "            span=doc[token.left_edge.i:token.right_edge.i+1]\n",
        "            span_list=[]\n",
        "            for i in span:\n",
        "                span_list.append(i)\n",
        "            spans_dict[(token,token.dep_)]=span_list\n",
        "    return spans_dict"
      ],
      "execution_count": null,
      "outputs": []
    },
    {
      "cell_type": "markdown",
      "metadata": {
        "id": "rUU2CinnzuaH"
      },
      "source": [
        "### *PROJECT RESULTS*"
      ]
    },
    {
      "cell_type": "code",
      "metadata": {
        "colab": {
          "base_uri": "https://localhost:8080/"
        },
        "id": "folV4gNuzyXX",
        "outputId": "57e6780a-44e0-44fa-a305-44bcc5120a2d"
      },
      "source": [
        "def main():\n",
        "\n",
        "    print('Exercise sentence:')\n",
        "    print(input_sentence)\n",
        "\n",
        "    print()\n",
        "\n",
        "    # EXERCISE_1\n",
        "    print('1) Printing EX1 results...')\n",
        "    print()\n",
        "    get_dependency_path(doc)\n",
        "\n",
        "    print()\n",
        "\n",
        "    # EXERCISE_2\n",
        "    print('2) Printing EX2 results...')\n",
        "    print()\n",
        "    dependency_subtree = getDependencySubtree(input_sentence)\n",
        "    print(dependency_subtree)\n",
        "\n",
        "    print()\n",
        "\n",
        "    # EXERCISE_3\n",
        "    print('3) Printing EX3 results...')\n",
        "    print()\n",
        "\n",
        "    sample_1 = 'a telescope'\n",
        "    sample_2 = 'saw the'\n",
        "    sample_3 = 'the man'\n",
        "    print(is_subtree(input_sentence, sample_1)) \n",
        "    print(is_subtree(input_sentence, sample_2)) \n",
        "    print(is_subtree(input_sentence, sample_3)) \n",
        "\n",
        "    print()\n",
        "\n",
        "    # EXERCISE_4\n",
        "    print('4) Printing EX4 results...')\n",
        "    print()\n",
        "    span = \"the man with\"\n",
        "    print(\"head of span: \", headOfSpan(span))\n",
        "    print()\n",
        "\n",
        "    print()\n",
        "\n",
        "    # EXERCISE_5\n",
        "    print('5) Printing EX5 results...')\n",
        "    print()\n",
        "    print(get_spans(input_sentence))\n",
        "\n",
        "main()"
      ],
      "execution_count": null,
      "outputs": [
        {
          "output_type": "stream",
          "text": [
            "Exercise sentence:\n",
            "I saw the man with a telescope\n",
            "\n",
            "1) Printing EX1 results...\n",
            "\n",
            "i : ['ROOT : saw', 'nsubj : i']\n",
            "saw : ['ROOT : saw']\n",
            "the : ['ROOT : saw', 'dobj : man', 'det : the']\n",
            "man : ['ROOT : saw', 'dobj : man']\n",
            "with : ['ROOT : saw', 'dobj : man', 'prep : with']\n",
            "a : ['ROOT : saw', 'dobj : man', 'prep : with', 'pobj : telescope', 'det : a']\n",
            "telescope : ['ROOT : saw', 'dobj : man', 'prep : with', 'pobj : telescope']\n",
            "\n",
            "2) Printing EX2 results...\n",
            "\n",
            "[\"I -> ['I']\", \"saw -> ['I', 'saw', 'the', 'man', 'with', 'a', 'telescope']\", \"the -> ['the']\", \"man -> ['the', 'man', 'with', 'a', 'telescope']\", \"with -> ['with', 'a', 'telescope']\", \"a -> ['a']\", \"telescope -> ['a', 'telescope']\"]\n",
            "\n",
            "3) Printing EX3 results...\n",
            "\n",
            "Testing: ['a', 'telescope']\n",
            "Found subtree: ['a', 'telescope']\n",
            "True\n",
            "Testing: ['saw', 'the']\n",
            "Not a subtree.\n",
            "False\n",
            "Testing: ['the', 'man']\n",
            "Not a subtree.\n",
            "False\n",
            "\n",
            "4) Printing EX4 results...\n",
            "\n",
            "span:  I saw the man with a telescope\n",
            "head of span:  saw\n",
            "\n",
            "\n",
            "5) Printing EX5 results...\n",
            "\n",
            "{(I, 'nsubj'): [I], (man, 'dobj'): [the, man, with, a, telescope]}\n"
          ],
          "name": "stdout"
        }
      ]
    }
  ]
}